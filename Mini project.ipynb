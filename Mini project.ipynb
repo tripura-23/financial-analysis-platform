{
 "cells": [
  {
   "cell_type": "code",
   "execution_count": 1,
   "metadata": {
    "colab": {
     "base_uri": "https://localhost:8080/"
    },
    "id": "gRGOtRaIsFL9",
    "outputId": "59e6aa92-1b9e-4240-95b7-74184dbfdebb"
   },
   "outputs": [
    {
     "name": "stdout",
     "output_type": "stream",
     "text": [
      "Requirement already satisfied: streamlit in c:\\users\\tripu\\appdata\\roaming\\python\\python312\\site-packages (1.45.0)\n",
      "Requirement already satisfied: pyngrok in c:\\users\\tripu\\anaconda\\lib\\site-packages (7.2.8)\n",
      "Requirement already satisfied: altair<6,>=4.0 in c:\\users\\tripu\\appdata\\roaming\\python\\python312\\site-packages (from streamlit) (5.5.0)\n",
      "Requirement already satisfied: blinker<2,>=1.5.0 in c:\\users\\tripu\\appdata\\roaming\\python\\python312\\site-packages (from streamlit) (1.9.0)\n",
      "Requirement already satisfied: cachetools<6,>=4.0 in c:\\users\\tripu\\appdata\\roaming\\python\\python312\\site-packages (from streamlit) (5.5.2)\n",
      "Requirement already satisfied: click<9,>=7.0 in c:\\users\\tripu\\appdata\\roaming\\python\\python312\\site-packages (from streamlit) (8.1.8)\n",
      "Requirement already satisfied: numpy<3,>=1.23 in c:\\users\\tripu\\anaconda\\lib\\site-packages (from streamlit) (1.26.4)\n",
      "Requirement already satisfied: packaging<25,>=20 in c:\\users\\tripu\\appdata\\roaming\\python\\python312\\site-packages (from streamlit) (24.2)\n",
      "Requirement already satisfied: pandas<3,>=1.4.0 in c:\\users\\tripu\\appdata\\roaming\\python\\python312\\site-packages (from streamlit) (2.2.3)\n",
      "Requirement already satisfied: pillow<12,>=7.1.0 in c:\\users\\tripu\\appdata\\roaming\\python\\python312\\site-packages (from streamlit) (11.2.1)\n",
      "Requirement already satisfied: protobuf<7,>=3.20 in c:\\users\\tripu\\appdata\\roaming\\python\\python312\\site-packages (from streamlit) (6.30.2)\n",
      "Requirement already satisfied: pyarrow>=7.0 in c:\\users\\tripu\\appdata\\roaming\\python\\python312\\site-packages (from streamlit) (20.0.0)\n",
      "Requirement already satisfied: requests<3,>=2.27 in c:\\users\\tripu\\appdata\\roaming\\python\\python312\\site-packages (from streamlit) (2.32.3)\n",
      "Requirement already satisfied: tenacity<10,>=8.1.0 in c:\\users\\tripu\\appdata\\roaming\\python\\python312\\site-packages (from streamlit) (9.1.2)\n",
      "Requirement already satisfied: toml<2,>=0.10.1 in c:\\users\\tripu\\appdata\\roaming\\python\\python312\\site-packages (from streamlit) (0.10.2)\n",
      "Requirement already satisfied: typing-extensions<5,>=4.4.0 in c:\\users\\tripu\\appdata\\roaming\\python\\python312\\site-packages (from streamlit) (4.12.2)\n",
      "Requirement already satisfied: watchdog<7,>=2.1.5 in c:\\users\\tripu\\appdata\\roaming\\python\\python312\\site-packages (from streamlit) (6.0.0)\n",
      "Requirement already satisfied: gitpython!=3.1.19,<4,>=3.0.7 in c:\\users\\tripu\\appdata\\roaming\\python\\python312\\site-packages (from streamlit) (3.1.44)\n",
      "Requirement already satisfied: pydeck<1,>=0.8.0b4 in c:\\users\\tripu\\appdata\\roaming\\python\\python312\\site-packages (from streamlit) (0.9.1)\n",
      "Requirement already satisfied: tornado<7,>=6.0.3 in c:\\users\\tripu\\appdata\\roaming\\python\\python312\\site-packages (from streamlit) (6.4.2)\n",
      "Requirement already satisfied: jinja2 in c:\\users\\tripu\\appdata\\roaming\\python\\python312\\site-packages (from altair<6,>=4.0->streamlit) (3.1.6)\n",
      "Requirement already satisfied: jsonschema>=3.0 in c:\\users\\tripu\\appdata\\roaming\\python\\python312\\site-packages (from altair<6,>=4.0->streamlit) (4.23.0)\n",
      "Requirement already satisfied: narwhals>=1.14.2 in c:\\users\\tripu\\appdata\\roaming\\python\\python312\\site-packages (from altair<6,>=4.0->streamlit) (1.37.1)\n",
      "Requirement already satisfied: colorama in c:\\users\\tripu\\appdata\\roaming\\python\\python312\\site-packages (from click<9,>=7.0->streamlit) (0.4.6)\n",
      "Requirement already satisfied: gitdb<5,>=4.0.1 in c:\\users\\tripu\\appdata\\roaming\\python\\python312\\site-packages (from gitpython!=3.1.19,<4,>=3.0.7->streamlit) (4.0.12)\n",
      "Requirement already satisfied: smmap<6,>=3.0.1 in c:\\users\\tripu\\appdata\\roaming\\python\\python312\\site-packages (from gitdb<5,>=4.0.1->gitpython!=3.1.19,<4,>=3.0.7->streamlit) (5.0.2)\n",
      "Requirement already satisfied: python-dateutil>=2.8.2 in c:\\users\\tripu\\appdata\\roaming\\python\\python312\\site-packages (from pandas<3,>=1.4.0->streamlit) (2.9.0.post0)\n",
      "Requirement already satisfied: pytz>=2020.1 in c:\\users\\tripu\\appdata\\roaming\\python\\python312\\site-packages (from pandas<3,>=1.4.0->streamlit) (2025.2)\n",
      "Requirement already satisfied: tzdata>=2022.7 in c:\\users\\tripu\\appdata\\roaming\\python\\python312\\site-packages (from pandas<3,>=1.4.0->streamlit) (2025.2)\n",
      "Requirement already satisfied: charset-normalizer<4,>=2 in c:\\users\\tripu\\appdata\\roaming\\python\\python312\\site-packages (from requests<3,>=2.27->streamlit) (3.4.1)\n",
      "Requirement already satisfied: idna<4,>=2.5 in c:\\users\\tripu\\appdata\\roaming\\python\\python312\\site-packages (from requests<3,>=2.27->streamlit) (3.10)\n",
      "Requirement already satisfied: urllib3<3,>=1.21.1 in c:\\users\\tripu\\appdata\\roaming\\python\\python312\\site-packages (from requests<3,>=2.27->streamlit) (2.3.0)\n",
      "Requirement already satisfied: certifi>=2017.4.17 in c:\\users\\tripu\\appdata\\roaming\\python\\python312\\site-packages (from requests<3,>=2.27->streamlit) (2025.1.31)\n",
      "Requirement already satisfied: PyYAML>=5.1 in c:\\users\\tripu\\appdata\\roaming\\python\\python312\\site-packages (from pyngrok) (6.0.2)\n",
      "Requirement already satisfied: MarkupSafe>=2.0 in c:\\users\\tripu\\appdata\\roaming\\python\\python312\\site-packages (from jinja2->altair<6,>=4.0->streamlit) (3.0.2)\n",
      "Requirement already satisfied: attrs>=22.2.0 in c:\\users\\tripu\\appdata\\roaming\\python\\python312\\site-packages (from jsonschema>=3.0->altair<6,>=4.0->streamlit) (25.3.0)\n",
      "Requirement already satisfied: jsonschema-specifications>=2023.03.6 in c:\\users\\tripu\\appdata\\roaming\\python\\python312\\site-packages (from jsonschema>=3.0->altair<6,>=4.0->streamlit) (2024.10.1)\n",
      "Requirement already satisfied: referencing>=0.28.4 in c:\\users\\tripu\\appdata\\roaming\\python\\python312\\site-packages (from jsonschema>=3.0->altair<6,>=4.0->streamlit) (0.36.2)\n",
      "Requirement already satisfied: rpds-py>=0.7.1 in c:\\users\\tripu\\appdata\\roaming\\python\\python312\\site-packages (from jsonschema>=3.0->altair<6,>=4.0->streamlit) (0.23.1)\n",
      "Requirement already satisfied: six>=1.5 in c:\\users\\tripu\\appdata\\roaming\\python\\python312\\site-packages (from python-dateutil>=2.8.2->pandas<3,>=1.4.0->streamlit) (1.17.0)\n"
     ]
    }
   ],
   "source": [
    "!pip install streamlit pyngrok\n"
   ]
  },
  {
   "cell_type": "code",
   "execution_count": 2,
   "metadata": {
    "colab": {
     "base_uri": "https://localhost:8080/"
    },
    "id": "TuZm_1_9sJj6",
    "outputId": "60b1b329-cf7b-4050-b1a8-eaa76852e2fa"
   },
   "outputs": [
    {
     "name": "stdout",
     "output_type": "stream",
     "text": [
      "Overwriting sales_dashboard_streamlit_app.py\n"
     ]
    }
   ],
   "source": [
    "%%writefile sales_dashboard_streamlit_app.py\n",
    "\n",
    "import streamlit as st\n",
    "import pandas as pd\n",
    "import matplotlib.pyplot as plt\n",
    "import seaborn as sns\n",
    "from io import BytesIO\n",
    "\n",
    "st.set_page_config(page_title=\"Financial Analysis Platform\", layout=\"wide\")\n",
    "\n",
    "# Light Theme Styling\n",
    "st.markdown(\"\"\"\n",
    "    <style>\n",
    "    body, .reportview-container {\n",
    "        background-color: #f9f9f9;\n",
    "        color: #222;\n",
    "        font-family: \"Segoe UI\", sans-serif;\n",
    "    }\n",
    "    .stButton > button {\n",
    "        background-color: #1f77b4;\n",
    "        color: white;\n",
    "        padding: 0.5em 1em;\n",
    "        border-radius: 8px;\n",
    "        font-size: 16px;\n",
    "    }\n",
    "    .stDataFrame, .stTable {\n",
    "        background-color: white;\n",
    "        border-radius: 10px;\n",
    "        padding: 10px;\n",
    "    }\n",
    "    </style>\n",
    "\"\"\", unsafe_allow_html=True)\n",
    "\n",
    "st.title(\"📊 Financial Analysis Platform\")\n",
    "\n",
    "uploaded_file = st.file_uploader(\"Upload your sales data CSV file\", type=[\"csv\"])\n",
    "\n",
    "if uploaded_file:\n",
    "    df = pd.read_csv(uploaded_file)\n",
    "    df.columns = df.columns.str.strip()\n",
    "\n",
    "    st.header(\"📂 Raw Data Preview\")\n",
    "    st.dataframe(df.head())\n",
    "\n",
    "    df['Order Date'] = pd.to_datetime(df['Order Date'], errors='coerce')\n",
    "    df.dropna(subset=['Order Date'], inplace=True)\n",
    "    df['Month'] = df['Order Date'].dt.month\n",
    "    df['Hour'] = df['Order Date'].dt.hour\n",
    "    df['Year'] = df['Order Date'].dt.year\n",
    "\n",
    "    st.markdown(\"---\")\n",
    "    st.header(\"📈 Visual Analysis\")\n",
    "\n",
    "    def plot_and_download(fig, filename, label):\n",
    "        buf = BytesIO()\n",
    "        fig.savefig(buf, format=\"png\")\n",
    "        st.pyplot(fig)\n",
    "        st.download_button(label=f\"Download {label}\", data=buf.getvalue(), file_name=filename, mime=\"image/png\")\n",
    "\n",
    "    # Total Amount by Month\n",
    "    st.subheader(\"📅 Total Amount by Month\")\n",
    "    monthly = df.groupby('Month')['Amount'].sum()\n",
    "    fig, ax = plt.subplots()\n",
    "    sns.barplot(x=monthly.index, y=monthly.values, palette=\"Blues_d\", ax=ax)\n",
    "    ax.set_title(\"Monthly Sales\")\n",
    "    plot_and_download(fig, \"monthly_sales.png\", \"Monthly Sales Chart\")\n",
    "\n",
    "    # Total Amount by City\n",
    "    st.subheader(\"🏙️ Total Amount by City\")\n",
    "    city = df.groupby('City')['Amount'].sum().sort_values(ascending=False)\n",
    "    fig, ax = plt.subplots()\n",
    "    sns.barplot(x=city.values, y=city.index, palette=\"coolwarm\", ax=ax)\n",
    "    ax.set_title(\"Sales by City\")\n",
    "    plot_and_download(fig, \"city_sales.png\", \"City Sales Chart\")\n",
    "\n",
    "    # Top 10 Sub-Categories by Profit\n",
    "    st.subheader(\"📦 Top 10 Sub-Categories by Profit\")\n",
    "    top_subcats = df.groupby('Sub-Category')['Profit'].sum().sort_values(ascending=False).head(10)\n",
    "    fig, ax = plt.subplots()\n",
    "    sns.barplot(x=top_subcats.values, y=top_subcats.index, palette=\"crest\", ax=ax)\n",
    "    ax.set_title(\"Top Sub-Categories by Profit\")\n",
    "    plot_and_download(fig, \"top_subcategories_profit.png\", \"Top Sub-Categories Chart\")\n",
    "\n",
    "    # Monthly Profit Trend\n",
    "    st.subheader(\"📉 Monthly Profit Trend\")\n",
    "    monthly_profit = df.groupby('Month')['Profit'].sum()\n",
    "    fig, ax = plt.subplots()\n",
    "    sns.lineplot(x=monthly_profit.index, y=monthly_profit.values, marker='o', color='purple', ax=ax)\n",
    "    ax.set_title(\"Monthly Profit Trend\")\n",
    "    plot_and_download(fig, \"monthly_profit_trend.png\", \"Monthly Profit Chart\")\n",
    "\n",
    "    # Orders by Category (Pie Chart)\n",
    "    st.subheader(\"🍕 Orders by Category\")\n",
    "    category_counts = df['Category'].value_counts()\n",
    "    fig, ax = plt.subplots()\n",
    "    ax.pie(category_counts.values, labels=category_counts.index, autopct='%1.1f%%', startangle=140, colors=sns.color_palette('pastel'))\n",
    "    ax.axis('equal')\n",
    "    plot_and_download(fig, \"orders_by_category.png\", \"Category Pie Chart\")\n",
    "\n",
    "    # Payment Mode Analysis\n",
    "    if 'PaymentMode' in df.columns:\n",
    "        st.subheader(\"💳 Payment Mode Distribution\")\n",
    "        payment_mode = df['PaymentMode'].value_counts()\n",
    "        fig, ax = plt.subplots()\n",
    "        ax.pie(payment_mode, labels=payment_mode.index, autopct='%1.1f%%', colors=sns.color_palette(\"Set2\"))\n",
    "        ax.axis('equal')\n",
    "        plot_and_download(fig, \"payment_mode_distribution.png\", \"Payment Mode Chart\")\n",
    "\n",
    "    # Option to download cleaned Data\n",
    "    csv = df.to_csv(index=False).encode('utf-8')\n",
    "    st.download_button(\"Download Cleaned CSV\", csv, \"cleaned_data.csv\", \"text/csv\")\n",
    "\n",
    "else:\n",
    "    st.info(\"📁 Please upload a valid CSV file to begin analysis.\")\n"
   ]
  },
  {
   "cell_type": "code",
   "execution_count": 3,
   "metadata": {
    "colab": {
     "base_uri": "https://localhost:8080/"
    },
    "id": "u7i0ubMcsPKw",
    "outputId": "f8eb6ad0-d56a-4653-be58-c097130fa1f8"
   },
   "outputs": [
    {
     "name": "stdout",
     "output_type": "stream",
     "text": [
      "Authtoken saved to configuration file: C:\\Users\\tripu\\AppData\\Local/ngrok/ngrok.yml\n"
     ]
    }
   ],
   "source": [
    "!ngrok config add-authtoken 2xVCyikcFmKpFib3VF8cd9cTUw5_2XeRR8D9hTNEncBCwK2EE\n"
   ]
  },
  {
   "cell_type": "code",
   "execution_count": 4,
   "metadata": {
    "colab": {
     "base_uri": "https://localhost:8080/"
    },
    "id": "cReSS1-wsZU7",
    "outputId": "5131ef75-30dc-47e1-e014-b65b9514f4b8"
   },
   "outputs": [
    {
     "name": "stdout",
     "output_type": "stream",
     "text": [
      "🔄 Killing existing processes...\n",
      "🚀 Starting Streamlit app...\n",
      "🌐 Starting ngrok tunnel...\n",
      "✅ Streamlit app is live at: NgrokTunnel: \"https://84c1-2401-4900-60d3-47bd-c46d-fb60-a83f-c9f1.ngrok-free.app\" -> \"http://localhost:8501\"\n"
     ]
    }
   ],
   "source": [
    "import os\n",
    "import subprocess\n",
    "import time\n",
    "from pyngrok import ngrok\n",
    "\n",
    "# Step 1: Kill any existing Streamlit and ngrok processes\n",
    "print(\"🔄 Killing existing processes...\")\n",
    "os.system(\"taskkill /F /IM streamlit.exe >nul 2>&1\")\n",
    "os.system(\"taskkill /F /IM ngrok.exe >nul 2>&1\")\n",
    "\n",
    "# Step 2: Start Streamlit app\n",
    "print(\"🚀 Starting Streamlit app...\")\n",
    "streamlit_process = subprocess.Popen([\"streamlit\", \"run\", \"sales_dashboard_streamlit_app.py\"],\n",
    "                                     stdout=subprocess.DEVNULL,\n",
    "                                     stderr=subprocess.DEVNULL)\n",
    "\n",
    "# Optional: Wait to ensure the Streamlit app has started\n",
    "time.sleep(5)\n",
    "\n",
    "# Step 3: Start ngrok tunnel\n",
    "print(\"🌐 Starting ngrok tunnel...\")\n",
    "public_url = ngrok.connect(8501)\n",
    "print(f\"✅ Streamlit app is live at: {public_url}\")\n",
    "\n"
   ]
  },
  {
   "cell_type": "code",
   "execution_count": null,
   "metadata": {
    "id": "DN9rILdIse4f"
   },
   "outputs": [],
   "source": []
  }
 ],
 "metadata": {
  "colab": {
   "provenance": []
  },
  "kernelspec": {
   "display_name": "Python 3 (ipykernel)",
   "language": "python",
   "name": "python3"
  },
  "language_info": {
   "codemirror_mode": {
    "name": "ipython",
    "version": 3
   },
   "file_extension": ".py",
   "mimetype": "text/x-python",
   "name": "python",
   "nbconvert_exporter": "python",
   "pygments_lexer": "ipython3",
   "version": "3.12.7"
  }
 },
 "nbformat": 4,
 "nbformat_minor": 4
}
